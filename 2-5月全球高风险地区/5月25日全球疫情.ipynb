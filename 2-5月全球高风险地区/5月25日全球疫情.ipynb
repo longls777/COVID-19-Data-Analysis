{
 "cells": [
  {
   "cell_type": "code",
   "execution_count": 27,
   "metadata": {},
   "outputs": [],
   "source": [
    "from pyecharts import Map\n",
    "import pandas as pd\n",
    "\n",
    "data=pd.read_csv('F:\\\\COVID 19\\\\COVID-19\\\\csse_covid_19_data\\\\csse_covid_19_daily_reports\\\\05-25-2020.csv')\n",
    "res=dict(data.groupby(\"Country_Region\")[\"Confirmed\"].sum())\n",
    "res[\"United States\"]=res.pop(\"US\")\n",
    "res[\"Korea\"]=res.pop(\"Korea, South\")\n",
    "res[\"Dem. Rep. Congo\"]=res.pop(\"Congo (Kinshasa)\")\n",
    "res[\"Congo\"]=res.pop(\"Congo (Brazzaville)\")\n",
    "map0=Map(\"5月25日全球疫情\", width=1200, height=600)\n",
    "map0.add(\"5月25日全球疫情\",list(res.keys()),list(res.values()),maptype=\"world\",visual_range=[0, 300000],is_visualmap=True, visual_text_color='#000')\n",
    "map0.render(path=\"./5.25全球疫情.html\")"
   ]
  },
  {
   "cell_type": "code",
   "execution_count": null,
   "metadata": {},
   "outputs": [],
   "source": []
  },
  {
   "cell_type": "code",
   "execution_count": null,
   "metadata": {},
   "outputs": [],
   "source": []
  }
 ],
 "metadata": {
  "kernelspec": {
   "display_name": "Python 3",
   "language": "python",
   "name": "python3"
  },
  "language_info": {
   "codemirror_mode": {
    "name": "ipython",
    "version": 3
   },
   "file_extension": ".py",
   "mimetype": "text/x-python",
   "name": "python",
   "nbconvert_exporter": "python",
   "pygments_lexer": "ipython3",
   "version": "3.7.4"
  }
 },
 "nbformat": 4,
 "nbformat_minor": 2
}
