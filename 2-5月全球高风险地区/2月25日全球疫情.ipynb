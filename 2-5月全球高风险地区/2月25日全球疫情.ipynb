{
 "cells": [
  {
   "cell_type": "code",
   "execution_count": 9,
   "metadata": {},
   "outputs": [],
   "source": [
    "from pyecharts import Map\n",
    "import pandas as pd\n",
    "\n",
    "data=pd.read_csv('F:\\\\COVID 19\\\\COVID-19\\\\csse_covid_19_data\\\\csse_covid_19_daily_reports\\\\02-25-2020.csv')\n",
    "res=dict(data.groupby(\"Country/Region\")[\"Confirmed\"].sum())\n",
    "res[\"United States\"]=res.pop(\"US\")\n",
    "res[\"China\"]=res.pop(\"Mainland China\")\n",
    "map0=Map(\"2月25日全球疫情\", width=1200, height=600)\n",
    "map0.add(\"2月25日全球疫情\",list(res.keys()),list(res.values()),maptype=\"world\",visual_range=[0, 10000],is_visualmap=True, visual_text_color='#000')\n",
    "map0.render(path=\"./2.25全球疫情.html\")"
   ]
  },
  {
   "cell_type": "code",
   "execution_count": 5,
   "metadata": {},
   "outputs": [
    {
     "data": {
      "text/plain": [
       "{'Afghanistan': 1,\n",
       " 'Algeria': 1,\n",
       " 'Australia': 22,\n",
       " 'Austria': 2,\n",
       " 'Bahrain': 23,\n",
       " 'Belgium': 1,\n",
       " 'Cambodia': 1,\n",
       " 'Canada': 11,\n",
       " 'Croatia': 1,\n",
       " 'Egypt': 1,\n",
       " 'Finland': 1,\n",
       " 'France': 14,\n",
       " 'Germany': 17,\n",
       " 'Hong Kong': 84,\n",
       " 'India': 3,\n",
       " 'Iran': 95,\n",
       " 'Iraq': 1,\n",
       " 'Israel': 1,\n",
       " 'Italy': 322,\n",
       " 'Japan': 170,\n",
       " 'Kuwait': 11,\n",
       " 'Lebanon': 1,\n",
       " 'Macau': 10,\n",
       " 'Mainland China': 77660,\n",
       " 'Malaysia': 22,\n",
       " 'Nepal': 1,\n",
       " 'Oman': 2,\n",
       " 'Others': 691,\n",
       " 'Philippines': 3,\n",
       " 'Russia': 2,\n",
       " 'Singapore': 91,\n",
       " 'South Korea': 977,\n",
       " 'Spain': 6,\n",
       " 'Sri Lanka': 1,\n",
       " 'Sweden': 1,\n",
       " 'Switzerland': 1,\n",
       " 'Taiwan': 31,\n",
       " 'Thailand': 37,\n",
       " 'UK': 13,\n",
       " 'United Arab Emirates': 13,\n",
       " 'Vietnam': 16,\n",
       " 'United States': 53}"
      ]
     },
     "execution_count": 5,
     "metadata": {},
     "output_type": "execute_result"
    }
   ],
   "source": []
  },
  {
   "cell_type": "code",
   "execution_count": null,
   "metadata": {},
   "outputs": [],
   "source": []
  }
 ],
 "metadata": {
  "kernelspec": {
   "display_name": "Python 3",
   "language": "python",
   "name": "python3"
  },
  "language_info": {
   "codemirror_mode": {
    "name": "ipython",
    "version": 3
   },
   "file_extension": ".py",
   "mimetype": "text/x-python",
   "name": "python",
   "nbconvert_exporter": "python",
   "pygments_lexer": "ipython3",
   "version": "3.7.4"
  }
 },
 "nbformat": 4,
 "nbformat_minor": 2
}
